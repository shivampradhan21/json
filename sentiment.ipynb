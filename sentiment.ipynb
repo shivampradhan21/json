{
 "cells": [
  {
   "cell_type": "code",
   "execution_count": 1,
   "id": "a007d311",
   "metadata": {},
   "outputs": [],
   "source": [
    "#!pip install autocorrect\n",
    "#!pip install nltk\n",
    "#!pip install textblob\n",
    "#!pip install vaderSentiment"
   ]
  },
  {
   "cell_type": "code",
   "execution_count": 2,
   "id": "a61f5d3b",
   "metadata": {},
   "outputs": [],
   "source": [
    "import json\n",
    "import pandas as pd\n",
    "\n",
    "import matplotlib.pyplot as plt\n",
    "%matplotlib inline  \n",
    "\n",
    "import nltk\n",
    "from nltk import word_tokenize, sent_tokenize\n",
    "from nltk.corpus import stopwords\n",
    "from autocorrect import Speller \n",
    "from nltk.stem import LancasterStemmer, WordNetLemmatizer, PorterStemmer\n",
    "#from textblob import TextBlob\n",
    "from vaderSentiment.vaderSentiment import SentimentIntensityAnalyzer\n",
    " \n",
    "from sklearn.metrics import confusion_matrix\n",
    "from sklearn.metrics import accuracy_score\n",
    "\n"
   ]
  },
  {
   "cell_type": "code",
   "execution_count": 3,
   "id": "e0041e03",
   "metadata": {},
   "outputs": [
    {
     "name": "stderr",
     "output_type": "stream",
     "text": [
      "[nltk_data] Downloading package stopwords to\n",
      "[nltk_data]     C:\\Users\\10686126\\AppData\\Roaming\\nltk_data...\n",
      "[nltk_data]   Package stopwords is already up-to-date!\n"
     ]
    },
    {
     "data": {
      "text/plain": [
       "True"
      ]
     },
     "execution_count": 3,
     "metadata": {},
     "output_type": "execute_result"
    }
   ],
   "source": [
    "nltk.download('stopwords')"
   ]
  },
  {
   "cell_type": "code",
   "execution_count": 4,
   "id": "4d108b0e",
   "metadata": {},
   "outputs": [],
   "source": [
    "\n",
    "\n",
    "with open('TextCase.json') as f:\n",
    "  data = json.load(f)\n"
   ]
  },
  {
   "cell_type": "code",
   "execution_count": 5,
   "id": "0e8417bf",
   "metadata": {},
   "outputs": [
    {
     "name": "stdout",
     "output_type": "stream",
     "text": [
      "dict_keys(['Specificity', 'ModelsInfo', 'JobInfo', 'Data'])\n"
     ]
    }
   ],
   "source": [
    "type(data)\n",
    "print(data.keys())"
   ]
  },
  {
   "cell_type": "code",
   "execution_count": 6,
   "id": "b6549f7f",
   "metadata": {},
   "outputs": [
    {
     "name": "stdout",
     "output_type": "stream",
     "text": [
      "{'Entity': 'Amazon', 'Theme': 'Books', 'Atomic': None, 'Language': 'English'}\n",
      "{'KNN': False, 'SVM': True, 'RF': True, 'LR': True, 'BL': False}\n",
      "{'ID': 10001, 'Client': 'Elsevier'}\n"
     ]
    }
   ],
   "source": [
    "print(data[\"Specificity\"])\n",
    "print(data[\"ModelsInfo\"])\n",
    "print(data[\"JobInfo\"])"
   ]
  },
  {
   "cell_type": "code",
   "execution_count": 7,
   "id": "07e8b38c",
   "metadata": {},
   "outputs": [
    {
     "name": "stdout",
     "output_type": "stream",
     "text": [
      "(91681, 3)\n"
     ]
    },
    {
     "data": {
      "text/html": [
       "<div>\n",
       "<style scoped>\n",
       "    .dataframe tbody tr th:only-of-type {\n",
       "        vertical-align: middle;\n",
       "    }\n",
       "\n",
       "    .dataframe tbody tr th {\n",
       "        vertical-align: top;\n",
       "    }\n",
       "\n",
       "    .dataframe thead th {\n",
       "        text-align: right;\n",
       "    }\n",
       "</style>\n",
       "<table border=\"1\" class=\"dataframe\">\n",
       "  <thead>\n",
       "    <tr style=\"text-align: right;\">\n",
       "      <th></th>\n",
       "      <th>CommentID</th>\n",
       "      <th>CommentText</th>\n",
       "      <th>Category</th>\n",
       "    </tr>\n",
       "  </thead>\n",
       "  <tbody>\n",
       "    <tr>\n",
       "      <th>1</th>\n",
       "      <td>2</td>\n",
       "      <td>accenture is a fine company  however  the pepe...</td>\n",
       "      <td>Neutral</td>\n",
       "    </tr>\n",
       "    <tr>\n",
       "      <th>2</th>\n",
       "      <td>3</td>\n",
       "      <td>it has become a laggard in remuneration  benef...</td>\n",
       "      <td>Neutral</td>\n",
       "    </tr>\n",
       "    <tr>\n",
       "      <th>3</th>\n",
       "      <td>4</td>\n",
       "      <td>like myself  most people i know do not necessa...</td>\n",
       "      <td>Neutral</td>\n",
       "    </tr>\n",
       "    <tr>\n",
       "      <th>4</th>\n",
       "      <td>5</td>\n",
       "      <td>no action on career development plans.</td>\n",
       "      <td>Positive</td>\n",
       "    </tr>\n",
       "    <tr>\n",
       "      <th>5</th>\n",
       "      <td>6</td>\n",
       "      <td>no visible adavancement pathway.</td>\n",
       "      <td>Neutral</td>\n",
       "    </tr>\n",
       "  </tbody>\n",
       "</table>\n",
       "</div>"
      ],
      "text/plain": [
       "   CommentID                                        CommentText  Category\n",
       "1          2  accenture is a fine company  however  the pepe...   Neutral\n",
       "2          3  it has become a laggard in remuneration  benef...   Neutral\n",
       "3          4  like myself  most people i know do not necessa...   Neutral\n",
       "4          5             no action on career development plans.  Positive\n",
       "5          6                   no visible adavancement pathway.   Neutral"
      ]
     },
     "execution_count": 7,
     "metadata": {},
     "output_type": "execute_result"
    }
   ],
   "source": [
    "Comment_data=pd.DataFrame(data[\"Data\"])\n",
    "print(Comment_data.shape)\n",
    "Comment_data = Comment_data.iloc[1:]#removing 1st row as not of much use but can cause some algo to fail\n",
    "Comment_data.head(5)"
   ]
  },
  {
   "cell_type": "code",
   "execution_count": 8,
   "id": "c394b77d",
   "metadata": {},
   "outputs": [
    {
     "data": {
      "text/plain": [
       "CommentID      0\n",
       "CommentText    0\n",
       "Category       0\n",
       "dtype: int64"
      ]
     },
     "execution_count": 8,
     "metadata": {},
     "output_type": "execute_result"
    }
   ],
   "source": [
    "Comment_data.isna().sum()"
   ]
  },
  {
   "cell_type": "code",
   "execution_count": 9,
   "id": "f153dbf5",
   "metadata": {},
   "outputs": [],
   "source": [
    "X=Comment_data[\"CommentText\"]\n",
    "y=Comment_data[\"Category\"]"
   ]
  },
  {
   "cell_type": "code",
   "execution_count": 10,
   "id": "88a91c0c",
   "metadata": {},
   "outputs": [
    {
     "data": {
      "text/plain": [
       "array(['Neutral', 'Positive', 'Negative'], dtype=object)"
      ]
     },
     "execution_count": 10,
     "metadata": {},
     "output_type": "execute_result"
    }
   ],
   "source": [
    "y.unique()"
   ]
  },
  {
   "cell_type": "code",
   "execution_count": 11,
   "id": "dbe918a9",
   "metadata": {},
   "outputs": [
    {
     "name": "stdout",
     "output_type": "stream",
     "text": [
      "1        accentur fine compani howev pepetu quest const...\n",
      "2        becom laggard remuner benefit promot capabl re...\n",
      "3        like peopl know necessarili want leav compani ...\n",
      "4                               action career develop plan\n",
      "5                                   visibl adavanc pathway\n",
      "                               ...                        \n",
      "91676              would like sustain longer time accentur\n",
      "91677           safe work environ teamwork forc rel strong\n",
      "91678    think accentur support employe initi stage get...\n",
      "91679                    reward recognit motiv work effici\n",
      "91680                            look great futur accentur\n",
      "Name: CommentText, Length: 91680, dtype: object\n"
     ]
    }
   ],
   "source": [
    "## lowercasing\n",
    "X=X.str.lower()\n",
    "## remove punctuation\n",
    "\n",
    "# def remove_punctuation(text):\n",
    "#      final = \"\".join(u for u in text if u not in (\"?\", \".\", \";\", \":\",  \"!\",'\"'))\n",
    "#     return final\n",
    "# x= X.apply(remove_punctuation)\n",
    "X= X.str.replace('[^\\w\\s]','')\n",
    "# stopword removal\n",
    "\n",
    "stop = stopwords.words('english')\n",
    "# saving sentiment affecting words\n",
    "wanted_words=['no', 'nor', 'not', \"don't\",\"isn't\"]+(stop[stop.index(\"aren't\"):])\n",
    "stopword_final = [ele for ele in stop if ele not in wanted_words]\n",
    "#print(stopword_final)\n",
    "\n",
    "X = X.apply(lambda x: \" \".join(x for x in x.split() if x not in stop))\n",
    "\n",
    "#stemming\n",
    "st = PorterStemmer()\n",
    "X = X.apply(lambda x: \" \".join([st.stem(word) for word in x.split()]))\n",
    "print(X)\n",
    "#autocorrecting misspell words\n",
    "\n",
    "# spell = Speller(lang='en')# takes some time .\n",
    "# X=X.apply(lambda x: \" \".join([spell(i) for i in x.split()]))"
   ]
  },
  {
   "cell_type": "markdown",
   "id": "f5050513",
   "metadata": {},
   "source": [
    "# Solving using library\n",
    "\n"
   ]
  },
  {
   "cell_type": "raw",
   "id": "d7b23685",
   "metadata": {},
   "source": [
    "# def sentiment_calc(text):\n",
    "    try:\n",
    "        return TextBlob(text).sentiment\n",
    "    except:\n",
    "        return None\n",
    "\n",
    "Y = X.apply(sentiment_calc)\n",
    "\n",
    "# will prefer vader as it gives positive negative neutral values which are more matching to problem statement"
   ]
  },
  {
   "cell_type": "code",
   "execution_count": 12,
   "id": "064ad98f",
   "metadata": {},
   "outputs": [],
   "source": [
    "\n",
    "def sentiment_scores(sentence):\n",
    " \n",
    "    # Create a SentimentIntensityAnalyzer object.\n",
    "    sid_obj = SentimentIntensityAnalyzer()\n",
    " \n",
    "    # polarity_scores method of SentimentIntensityAnalyzer\n",
    "    # object gives a sentiment dictionary.\n",
    "    # which contains pos, neg, neu, and compound scores.\n",
    "    sentiment_dict = sid_obj.polarity_scores(sentence)\n",
    "     \n",
    "    # decide sentiment as positive, negative and neutral\n",
    "    if sentiment_dict['compound'] >= 0.05 :\n",
    "        return \"Positive\"\n",
    " \n",
    "    elif sentiment_dict['compound'] <= - 0.05 :\n",
    "        return\"Negative\"\n",
    " \n",
    "    else :\n",
    "        return\"Neutral\"\n",
    " \n",
    " "
   ]
  },
  {
   "cell_type": "code",
   "execution_count": null,
   "id": "37ecea8e",
   "metadata": {},
   "outputs": [],
   "source": [
    "Y = X.apply(sentiment_scores)\n",
    "Y"
   ]
  },
  {
   "cell_type": "code",
   "execution_count": null,
   "id": "b1494511",
   "metadata": {},
   "outputs": [],
   "source": [
    "confusion_matrix(y, Y)\n",
    "accuracy_score(y,Y)"
   ]
  },
  {
   "cell_type": "markdown",
   "id": "d5b18079",
   "metadata": {},
   "source": [
    "# Training a machine learning model "
   ]
  },
  {
   "cell_type": "code",
   "execution_count": null,
   "id": "927cab8d",
   "metadata": {},
   "outputs": [],
   "source": []
  }
 ],
 "metadata": {
  "kernelspec": {
   "display_name": "Python 3",
   "language": "python",
   "name": "python3"
  },
  "language_info": {
   "codemirror_mode": {
    "name": "ipython",
    "version": 3
   },
   "file_extension": ".py",
   "mimetype": "text/x-python",
   "name": "python",
   "nbconvert_exporter": "python",
   "pygments_lexer": "ipython3",
   "version": "3.6.5"
  }
 },
 "nbformat": 4,
 "nbformat_minor": 5
}
